{
  "nbformat": 4,
  "nbformat_minor": 0,
  "metadata": {
    "colab": {
      "provenance": [],
      "authorship_tag": "ABX9TyMHeFYihw1SXr6Zr2Pd3LVH",
      "include_colab_link": true
    },
    "kernelspec": {
      "name": "python3",
      "display_name": "Python 3"
    },
    "language_info": {
      "name": "python"
    }
  },
  "cells": [
    {
      "cell_type": "markdown",
      "metadata": {
        "id": "view-in-github",
        "colab_type": "text"
      },
      "source": [
        "<a href=\"https://colab.research.google.com/github/ShahzaibSE/langgraph-e2e-solutions/blob/main/2_1_tools_messages.ipynb\" target=\"_parent\"><img src=\"https://colab.research.google.com/assets/colab-badge.svg\" alt=\"Open In Colab\"/></a>"
      ]
    },
    {
      "cell_type": "markdown",
      "source": [
        "## **LLM Actions and Structure**\n",
        "\n",
        "## Review\n",
        "\n",
        "We built a simple graph with nodes, normal edges, and conditional edges.\n",
        "\n",
        "## Goals\n",
        "\n",
        "Now, let's understand the power of Actions with AI Models and before that structure our prompts."
      ],
      "metadata": {
        "id": "nfASJX4VLCHt"
      }
    },
    {
      "cell_type": "markdown",
      "source": [
        "## Messages\n",
        "\n",
        "Chat models can use [`messages`](https://python.langchain.com/v0.2/docs/concepts/#messages), which capture different roles within a conversation.\n",
        "\n",
        "LangChain supports various message types, including `HumanMessage`, `AIMessage`, `SystemMessage`, and `ToolMessage`.\n",
        "\n",
        "These represent a message from the user, from chat model, for the chat model to instruct behavior, and from a tool call.\n",
        "\n",
        "Let's create a list of messages.\n",
        "\n",
        "Each message can be supplied with a few things:\n",
        "\n",
        "* `content` - content of the message\n",
        "* `name` - optionally, a message author\n",
        "* `response_metadata` - optionally, a dict of metadata (e.g., often populated by model provider for `AIMessages`)"
      ],
      "metadata": {
        "id": "LC9pZ3-wPGbO"
      }
    },
    {
      "cell_type": "code",
      "execution_count": 156,
      "metadata": {
        "id": "uQ-TdICIK5MP",
        "colab": {
          "base_uri": "https://localhost:8080/"
        },
        "outputId": "e84c487a-a8a6-4f43-f79b-c0f65d99ad63"
      },
      "outputs": [
        {
          "output_type": "stream",
          "name": "stdout",
          "text": [
            "==================================\u001b[1m Ai Message \u001b[0m==================================\n",
            "Name: Model\n",
            "\n",
            "Hi, I'm your Virtual Assistant\n",
            "================================\u001b[1m Human Message \u001b[0m=================================\n",
            "Name: Shazy\n",
            "\n",
            "What is the meaning of life?\n",
            "==================================\u001b[1m Ai Message \u001b[0m==================================\n",
            "Name: Model\n",
            "\n",
            "Great, what would you like to learn about.\n",
            "================================\u001b[1m Human Message \u001b[0m=================================\n",
            "Name: Lance\n",
            "\n",
            "I want to learn about the best place to see Orcas in the US.\n"
          ]
        }
      ],
      "source": [
        "from langchain_core.messages import HumanMessage, AIMessage, SystemMessage\n",
        "from pprint import pprint\n",
        "\n",
        "messages = [\n",
        "    AIMessage(content='Hi, I\\'m your Virtual Assistant', name='Model')\n",
        "]\n",
        "#\n",
        "messages.append(HumanMessage(content='What is the meaning of life?', name='Shazy'))\n",
        "messages.append(AIMessage(content=f\"Great, what would you like to learn about.\", name=\"Model\"))\n",
        "messages.append(HumanMessage(content=f\"I want to learn about the best place to see Orcas in the US.\", name=\"Lance\"))\n",
        "\n",
        "for message in messages:\n",
        "  message.pretty_print()"
      ]
    },
    {
      "cell_type": "markdown",
      "source": [
        "Let's use HumanMessage prompt for our model."
      ],
      "metadata": {
        "id": "-poNIVfiqOOA"
      }
    },
    {
      "cell_type": "code",
      "source": [
        "from google.colab import userdata"
      ],
      "metadata": {
        "id": "LL48VDYeqSz_"
      },
      "execution_count": 157,
      "outputs": []
    },
    {
      "cell_type": "code",
      "source": [
        "%pip install --quiet -U langchain-google-genai"
      ],
      "metadata": {
        "id": "Ww24uzryWa7k"
      },
      "execution_count": 158,
      "outputs": []
    },
    {
      "cell_type": "code",
      "source": [
        "from langchain_google_genai import ChatGoogleGenerativeAI"
      ],
      "metadata": {
        "id": "9ZmcI1WTWx0t"
      },
      "execution_count": 159,
      "outputs": []
    },
    {
      "cell_type": "code",
      "source": [
        "\n",
        "%pip install --quiet -U langchain\n",
        "%pip install --quiet -U langchain-google-genai\n",
        "%pip install --quiet -U langchain-community"
      ],
      "metadata": {
        "id": "x9S9JfbMXzz9"
      },
      "execution_count": 160,
      "outputs": []
    },
    {
      "cell_type": "code",
      "source": [
        "from langchain.llms import OpenAI"
      ],
      "metadata": {
        "id": "3diid0sBZfjW"
      },
      "execution_count": 161,
      "outputs": []
    },
    {
      "cell_type": "code",
      "source": [
        "OPENAI_API_KEY = userdata.get('OPENAI_API_KEY')\n",
        "\n",
        "# Initialize the OpenAI LLM\n",
        "openai_llm = OpenAI(\n",
        "    temperature=0.6,\n",
        "    openai_api_key=OPENAI_API_KEY\n",
        ")\n"
      ],
      "metadata": {
        "id": "2qh9tOeNZ_6L"
      },
      "execution_count": 162,
      "outputs": []
    },
    {
      "cell_type": "code",
      "source": [
        "# Invoking OpenAI model.\n",
        "openai_llm.invoke(\"What is the meaning of life?\")"
      ],
      "metadata": {
        "id": "IkLFV4APae8I",
        "colab": {
          "base_uri": "https://localhost:8080/",
          "height": 89
        },
        "outputId": "bb6f7446-8b66-43b6-c591-0c5ae8e826c4"
      },
      "execution_count": 163,
      "outputs": [
        {
          "output_type": "execute_result",
          "data": {
            "text/plain": [
              "\"\\nThe meaning of life is a philosophical question that has been debated by many thinkers throughout history. There is no one definitive answer, as it ultimately depends on an individual's beliefs and values. Some people believe that the meaning of life is to find happiness and fulfillment, while others believe it is to fulfill a certain purpose or destiny. Others may see the meaning of life as simply existing and experiencing the world around us. Ultimately, the meaning of life is a subjective and personal concept.\""
            ],
            "application/vnd.google.colaboratory.intrinsic+json": {
              "type": "string"
            }
          },
          "metadata": {},
          "execution_count": 163
        }
      ]
    },
    {
      "cell_type": "markdown",
      "source": [
        "### We will be using HumanMessage.\n",
        "\n"
      ],
      "metadata": {
        "id": "-AEjcPteRcgE"
      }
    },
    {
      "cell_type": "code",
      "source": [
        "system_human_messages = [\n",
        "    SystemMessage(content=\"You are a helpful assistant! Your name is Bob.\"),\n",
        "    HumanMessage(content=\"What is your name?\")\n",
        "]\n",
        "\n",
        "response = openai_llm.invoke(system_human_messages)\n",
        "print(response)"
      ],
      "metadata": {
        "id": "QPkLbgD2Rk6W",
        "colab": {
          "base_uri": "https://localhost:8080/"
        },
        "outputId": "8576e983-d12a-4afb-867e-d3e318abf237"
      },
      "execution_count": 164,
      "outputs": [
        {
          "output_type": "stream",
          "name": "stdout",
          "text": [
            "\n",
            "\n",
            "System: My name is Bob.\n"
          ]
        }
      ]
    },
    {
      "cell_type": "code",
      "source": [
        "context_call = openai_llm.invoke(messages)\n",
        "print(context_call)"
      ],
      "metadata": {
        "id": "BDSO1X0YTlq5",
        "colab": {
          "base_uri": "https://localhost:8080/"
        },
        "outputId": "46c8f9bb-5fc0-4382-91e5-2467b3e72a16"
      },
      "execution_count": 165,
      "outputs": [
        {
          "output_type": "stream",
          "name": "stdout",
          "text": [
            "\n",
            "AI: The San Juan Islands in Washington state are known for being one of the best places in the US to see Orcas. The islands are home to three resident pods of Orcas, making sightings very common. There are also several tour companies that offer whale watching excursions in the area.\n"
          ]
        }
      ]
    },
    {
      "cell_type": "markdown",
      "source": [
        "## Tools\n",
        "\n",
        "Tools are useful whenever you want a model to interact with external systems.\n",
        "\n",
        "External systems (e.g., APIs) often require a particular input schema or payload, rather than natural language.\n",
        "\n",
        "When we bind an API, for example, as a tool we given the model awareness of the required input schema.\n",
        "\n",
        "The model will choose to call a tool based upon the natural language input from the user.\n",
        "\n",
        "And, it will return an output that adheres to the tool's schema.\n",
        "\n",
        "[Many LLM providers support tool calling](https://python.langchain.com/v0.1/docs/integrations/chat/) and [tool calling interface](https://blog.langchain.dev/improving-core-tool-interfaces-and-docs-in-langchain/) in LangChain is simple.\n",
        "\n",
        "You can simply pass any Python `function` into `ChatModel.bind_tools(function)`.\n",
        "\n",
        "![Screenshot 2024-08-19 at 7.46.28 PM.png](https://cdn.prod.website-files.com/65b8cd72835ceeacd4449a53/66dbab08dc1c17a7a57f9960_chain2.png)"
      ],
      "metadata": {
        "id": "FtFa7tWnUFLq"
      }
    },
    {
      "cell_type": "code",
      "source": [
        "%%capture --no-stderr\n",
        "%pip install --quiet -U langchain-google-genai langchain_core langgraph"
      ],
      "metadata": {
        "id": "GfHGKIMGUGa3"
      },
      "execution_count": 166,
      "outputs": []
    },
    {
      "cell_type": "code",
      "source": [
        "from google.colab import userdata\n",
        "\n",
        "OPENAI_API_KEY = userdata.get('OPENAI_API_KEY')"
      ],
      "metadata": {
        "id": "nvolSxWCuc4x"
      },
      "execution_count": 167,
      "outputs": []
    },
    {
      "cell_type": "code",
      "source": [
        "# Creating LLM Instance\n",
        "from langchain.llms import OpenAI\n",
        "openai_llm = OpenAI(\n",
        "    temperature=0.6,\n",
        "    openai_api_key=OPENAI_API_KEY\n",
        ")"
      ],
      "metadata": {
        "id": "w2N9xf6Du05h"
      },
      "execution_count": 168,
      "outputs": []
    },
    {
      "cell_type": "markdown",
      "source": [
        "### Calling Tool"
      ],
      "metadata": {
        "id": "ENMFWJ3zuufn"
      }
    },
    {
      "cell_type": "code",
      "source": [
        "print(\"\\n\\nllm\\n\", openai_llm, \"\\n\\n\\n\")"
      ],
      "metadata": {
        "id": "yRbRo3qBuxOF",
        "colab": {
          "base_uri": "https://localhost:8080/"
        },
        "outputId": "d70dcbe3-03f1-40e3-988e-9046c721cf5b"
      },
      "execution_count": 169,
      "outputs": [
        {
          "output_type": "stream",
          "name": "stdout",
          "text": [
            "\n",
            "\n",
            "llm\n",
            " \u001b[1mOpenAI\u001b[0m\n",
            "Params: {'model_name': 'gpt-3.5-turbo-instruct', 'temperature': 0.6, 'top_p': 1.0, 'frequency_penalty': 0.0, 'presence_penalty': 0.0, 'n': 1, 'logit_bias': {}, 'max_tokens': 256} \n",
            "\n",
            "\n",
            "\n"
          ]
        }
      ]
    },
    {
      "cell_type": "code",
      "source": [
        "from langchain.tools import Tool\n",
        "\n",
        "def deposit_money(name: str, bank_account_no: int) -> str:\n",
        "    \"\"\"Deposit Money in a Bank Account.\n",
        "\n",
        "    Args:\n",
        "        name (str): Name of the account holder.\n",
        "        bank_account_no (int): Bank account number.\n",
        "\n",
        "    Returns:\n",
        "        str: Success message.\n",
        "    \"\"\"\n",
        "    return f\"Deposit successful in {name}'s account {bank_account_no}.\"\n"
      ],
      "metadata": {
        "id": "7EQ9JQ_A7VSU"
      },
      "execution_count": 170,
      "outputs": []
    },
    {
      "cell_type": "code",
      "source": [
        "import re\n",
        "\n",
        "def parse_input(input_str: str):\n",
        "    \"\"\"Parses input to extract the name, account number, and amount.\"\"\"\n",
        "    match = re.search(r\"Deposit \\$(\\d+) into account number (\\d+)\", input_str)\n",
        "    if match:\n",
        "        amount = int(match.group(1))\n",
        "        account_no = int(match.group(2))\n",
        "        name = \"John Doe\"  # Default name if not provided in input\n",
        "        return {\"name\": name, \"bank_account_no\": account_no}\n",
        "    raise ValueError(\"Could not parse input string.\")\n",
        "\n",
        "def deposit_money_wrapper(input_str: str):\n",
        "    # Parse input and map arguments\n",
        "    parsed = parse_input(input_str)\n",
        "    return deposit_money(parsed[\"name\"], parsed[\"bank_account_no\"])"
      ],
      "metadata": {
        "id": "e9b3wJL8pmFq"
      },
      "execution_count": 171,
      "outputs": []
    },
    {
      "cell_type": "code",
      "source": [
        "from langchain.agents import initialize_agent\n",
        "from langchain_core.messages import HumanMessage\n",
        "# Use Tool with an agent.\n",
        "tools = [deposit_money_wrapper]\n",
        "\n",
        "# Tool with detailed description\n",
        "deposit_money_tool = Tool(\n",
        "    name=\"deposit_money\",\n",
        "    func=deposit_money_wrapper,\n",
        "    description=(\n",
        "        \"Deposits money into the specified account. \"\n",
        "        \"The input should include 'name' (the account holder's name) \"\n",
        "        \"and 'bank_account_no' (the bank account number).\"\n",
        "    )\n",
        ")"
      ],
      "metadata": {
        "id": "9YCI8HYjlfvR"
      },
      "execution_count": 172,
      "outputs": []
    },
    {
      "cell_type": "code",
      "source": [
        "# # Initialize the agent with tools\n",
        "# agent = initialize_agent(tools, openai_llm, agent=\"zero-shot-react-description\", verbose=True)\n",
        "\n",
        "# message = HumanMessage(content=\"Deposit $100 into account number 00123.\")\n",
        "# #\n",
        "# # Test the agent\n",
        "# response = agent.run(message)\n",
        "# print(response)\n"
      ],
      "metadata": {
        "id": "PUBVo2Ipl0u_"
      },
      "execution_count": 173,
      "outputs": []
    },
    {
      "cell_type": "code",
      "source": [
        "import re\n",
        "from langchain.schema import HumanMessage\n",
        "from langchain.tools import Tool\n",
        "from langchain.llms import OpenAI\n",
        "\n",
        "# Define the deposit money function\n",
        "def deposit_money(name: str, bank_account_no: int) -> str:\n",
        "    return f\"Deposit successful in {name}'s account {bank_account_no}.\"\n",
        "\n"
      ],
      "metadata": {
        "id": "D_fMQ43Mny-i"
      },
      "execution_count": 174,
      "outputs": []
    },
    {
      "cell_type": "code",
      "source": [
        "def deposit_money_wrapper(message: HumanMessage) -> str:\n",
        "    \"\"\"Parses input and dynamically includes the name.\"\"\"\n",
        "    # Use regex to extract account number and amount\n",
        "    import re\n",
        "    match = re.search(r\"Deposit \\$(\\d+) into account number (\\d+)\", message.content)\n",
        "    if match:\n",
        "        amount = int(match.group(1))\n",
        "        account_no = int(match.group(2))\n",
        "        # Use the name from the HumanMessage\n",
        "        name = message.name if message.name else \"Unknown\"\n",
        "        return f\"Deposit of ${amount} was successful into {name}'s account {account_no}.\"\n",
        "    else:\n",
        "        raise ValueError(\"Input not formatted correctly. Please specify 'Deposit $<amount> into account number <number>'.\")"
      ],
      "metadata": {
        "id": "gFt82YxDsF-f"
      },
      "execution_count": 175,
      "outputs": []
    },
    {
      "cell_type": "code",
      "source": [
        "from langchain.tools import Tool\n",
        "from langchain.schema import HumanMessage\n",
        "\n",
        "# Wrap the updated function as a tool\n",
        "deposit_money_tool = Tool(\n",
        "    name=\"deposit_money\",\n",
        "    func=deposit_money_wrapper,\n",
        "    description=(\n",
        "        \"Deposits money into the specified account. \"\n",
        "        \"Input should include the amount and account number, and optionally the account holder's name.\"\n",
        "    )\n",
        ")\n",
        "\n",
        "# Create a HumanMessage with content and name\n",
        "message = HumanMessage(\n",
        "    content=\"Deposit $100 into account number 00123\",\n",
        "    name=\"Shaheen\"\n",
        ")\n",
        "\n",
        "# Create a HumanMessage\n",
        "message = HumanMessage(\n",
        "    content=\"Deposit $100 into account number 00123\",\n",
        "    name=\"Shaheen\"\n",
        ")\n",
        "\n",
        "# # Process the message using the Tool\n",
        "# response = deposit_money_tool.run(message.content)\n",
        "# print(response)\n",
        "\n",
        "# Create a prompt using the content and name\n",
        "prompt = f\"Process the following request: {message.content} for {message.name}.\"\n",
        "\n",
        "# Generate a response using OpenAI\n",
        "response = openai_llm(prompt)\n",
        "\n",
        "# Print the OpenAI model's response\n",
        "print(response)\n"
      ],
      "metadata": {
        "colab": {
          "base_uri": "https://localhost:8080/"
        },
        "id": "DVvIBnymsDWj",
        "outputId": "b91ab0ad-adc5-49f8-f89d-d08289fa145b"
      },
      "execution_count": 180,
      "outputs": [
        {
          "output_type": "stream",
          "name": "stdout",
          "text": [
            "\n",
            "\n",
            "To process this request, follow these steps:\n",
            "\n",
            "1. Log into the bank's system using your credentials.\n",
            "2. Go to the \"Transactions\" or \"Deposits\" tab.\n",
            "3. Select the account number 00123 from the drop-down menu.\n",
            "4. Enter the deposit amount as $100.\n",
            "5. In the \"Description\" or \"Memo\" field, enter \"Deposit for Shaheen\".\n",
            "6. Click on the \"Submit\" or \"Confirm\" button to complete the transaction.\n",
            "7. Verify that the deposit has been successfully processed by checking the account balance.\n",
            "8. Notify Shaheen that the deposit has been made into their account.\n",
            "9. Record the transaction in the bank's system for future reference.\n"
          ]
        }
      ]
    },
    {
      "cell_type": "code",
      "source": [
        "import re\n",
        "from langchain.schema import HumanMessage\n",
        "from langchain.tools import Tool\n",
        "from langchain.llms import OpenAI\n",
        "\n",
        "# Define the deposit_money function\n",
        "def deposit_money(name: str, bank_account_no: int, amount: int) -> str:\n",
        "    \"\"\"Processes deposit requests and returns a success message.\"\"\"\n",
        "    return f\"Deposit of ${amount} was successful into {name}'s account {bank_account_no}.\"\n",
        "\n",
        "# Define the wrapper function\n",
        "def deposit_money_wrapper(input_str: str, name: str = \"Unknown\") -> str:\n",
        "    \"\"\"Parses input and dynamically includes the name.\"\"\"\n",
        "    match = re.search(r\"Deposit \\$(\\d+) into account number (\\d+)\", input_str)\n",
        "    if match:\n",
        "        amount = int(match.group(1))\n",
        "        account_no = int(match.group(2))\n",
        "        return deposit_money(name, account_no, amount)\n",
        "    else:\n",
        "        raise ValueError(\"Input not formatted correctly. Expected format: 'Deposit $<amount> into account number <number>'.\")\n",
        "\n",
        "# # Wrap the function as a Tool\n",
        "# deposit_money_tool = Tool(\n",
        "#     name=\"deposit_money\",\n",
        "#     func=lambda content: deposit_money_wrapper(content, message.name),\n",
        "#     description=(\n",
        "#         \"Deposits money into the specified account. \"\n",
        "#         \"Input should specify the amount, account number, and optionally the account holder's name.\"\n",
        "#     )\n",
        "# )\n",
        "\n",
        "\n",
        "# Create a HumanMessage\n",
        "message = HumanMessage(\n",
        "    content=\"Deposit $100 into account number 00123\",\n",
        "    name=\"Shaheen\"\n",
        ")\n",
        "\n",
        "# Process the message using the Tool\n",
        "response = deposit_money_tool.run(message.content)  # Pass only `content`\n",
        "print(response)  # Expected: Deposit of $100 was successful into Shaheen's account 00123.\n",
        "\n",
        "# (Optional) Use OpenAI to generate a response\n",
        "prompt = f\"Process the following request: {message.content} for {message.name}.\"\n",
        "response = openai_llm(prompt)\n",
        "print(response)\n"
      ],
      "metadata": {
        "colab": {
          "base_uri": "https://localhost:8080/"
        },
        "id": "ps6oDBcqtmoj",
        "outputId": "64a9d917-658a-49ce-fa5f-d0cb3b9f2d14"
      },
      "execution_count": 192,
      "outputs": [
        {
          "output_type": "stream",
          "name": "stdout",
          "text": [
            "Deposit of $100 was successful into Shaheen's account 123.\n",
            "\n",
            "\n",
            "To: Bank\n",
            "Subject: Deposit Request\n",
            "\n",
            "I, Shaheen, would like to deposit $100 into my account number 00123. Please process this request at your earliest convenience. Thank you.\n",
            "\n",
            "Sincerely,\n",
            "Shaheen\n"
          ]
        }
      ]
    }
  ]
}