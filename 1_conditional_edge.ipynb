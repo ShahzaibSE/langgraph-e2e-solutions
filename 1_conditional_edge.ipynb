{
  "nbformat": 4,
  "nbformat_minor": 0,
  "metadata": {
    "colab": {
      "provenance": [],
      "authorship_tag": "ABX9TyPM9maCsnQ1SINn2EQfMXpy",
      "include_colab_link": true
    },
    "kernelspec": {
      "name": "python3",
      "display_name": "Python 3"
    },
    "language_info": {
      "name": "python"
    }
  },
  "cells": [
    {
      "cell_type": "markdown",
      "metadata": {
        "id": "view-in-github",
        "colab_type": "text"
      },
      "source": [
        "<a href=\"https://colab.research.google.com/github/ShahzaibSE/langgraph-e2e-solutions/blob/main/1_conditional_edge.ipynb\" target=\"_parent\"><img src=\"https://colab.research.google.com/assets/colab-badge.svg\" alt=\"Open In Colab\"/></a>"
      ]
    },
    {
      "cell_type": "markdown",
      "source": [
        "# Let's Build a Simple Graph\n",
        "\n",
        "This graph will have Start Node, 3 nodes with their respective states, and End Node."
      ],
      "metadata": {
        "id": "cI_prDp1SltX"
      }
    },
    {
      "cell_type": "code",
      "source": [
        "%%capture --no-stderr\n",
        "%pip install --quiet -U langgraph"
      ],
      "metadata": {
        "id": "QYJM54UtTAq6"
      },
      "execution_count": 1,
      "outputs": []
    },
    {
      "cell_type": "markdown",
      "source": [
        "### **Let's Define State**\n",
        "\n",
        "States are either pydantic models or TypDict Models we define.\n",
        "\n",
        "\n",
        "First, define the [State](https://langchain-ai.github.io/langgraph/concepts/low_level/#state) of the graph.\n",
        "\n",
        "The State schema serves as the input schema for all Nodes and Edges in the graph.\n",
        "\n",
        "Let's use the `TypedDict` class from python's `typing` module as our schema, which provides type hints for the keys.\n",
        "\n",
        "\n",
        "The first thing you do when you define a graph is define the State of the graph. The State consists of the schema of the graph as well as reducer functions which specify how to apply updates to the state. The schema of the State will be the input schema to all Nodes and Edges in the graph, and can be either a TypedDict or a Pydantic model. All Nodes will emit updates to the State which are then applied using the specified reducer function."
      ],
      "metadata": {
        "id": "jPHIQvkMS2OK"
      }
    },
    {
      "cell_type": "code",
      "execution_count": 8,
      "metadata": {
        "id": "lE0rUjSsSS8t"
      },
      "outputs": [],
      "source": [
        "from typing_extensions import TypedDict\n",
        "\n",
        "class State(TypedDict):\n",
        "    user_prompt: str"
      ]
    },
    {
      "cell_type": "markdown",
      "source": [
        "## Nodes\n",
        "\n",
        "[Nodes](https://langchain-ai.github.io/langgraph/concepts/low_level/#nodes) are just python functions.\n",
        "\n",
        "The first positional argument is the state, as defined above.\n",
        "\n",
        "Because the state is a `TypedDict` with schema as defined above, each node can access the key, `user_input`, with `state['user_input']`.\n",
        "\n",
        "Each node returns a new value of the state key `user_input`.\n",
        "  \n",
        "By default, the new value returned by each node [will override](https://langchain-ai.github.io/langgraph/concepts/low_level/#reducers) the prior state value.\n",
        "\n",
        "[Reducer that update state](https://langchain-ai.github.io/langgraph/concepts/low_level/#multiple-schemas)"
      ],
      "metadata": {
        "id": "o_kD5HYYVC5i"
      }
    },
    {
      "cell_type": "code",
      "source": [],
      "metadata": {
        "id": "6AG4NrMyVGCT"
      },
      "execution_count": null,
      "outputs": []
    }
  ]
}