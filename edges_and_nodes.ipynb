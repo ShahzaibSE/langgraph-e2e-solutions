{
  "nbformat": 4,
  "nbformat_minor": 0,
  "metadata": {
    "colab": {
      "provenance": [],
      "authorship_tag": "ABX9TyP/9WYWqXwupJl2MtG0UKNO",
      "include_colab_link": true
    },
    "kernelspec": {
      "name": "python3",
      "display_name": "Python 3"
    },
    "language_info": {
      "name": "python"
    }
  },
  "cells": [
    {
      "cell_type": "markdown",
      "metadata": {
        "id": "view-in-github",
        "colab_type": "text"
      },
      "source": [
        "<a href=\"https://colab.research.google.com/github/ShahzaibSE/langgraph-e2e-solutions/blob/main/edges_and_nodes.ipynb\" target=\"_parent\"><img src=\"https://colab.research.google.com/assets/colab-badge.svg\" alt=\"Open In Colab\"/></a>"
      ]
    },
    {
      "cell_type": "code",
      "source": [],
      "metadata": {
        "id": "9yTJhs4cxQTX"
      },
      "execution_count": null,
      "outputs": []
    },
    {
      "cell_type": "markdown",
      "source": [
        "# What is LangGraph?\n",
        "\n",
        "LangGraph is a library for building stateful, multi-actor applications with LLMs, used to create agent and multi-agent workflows.\n",
        "\n",
        "Compared to other LLM frameworks, it offers these core benefits: cycles, controllability, and persistence.\n",
        "\n",
        "LangGraph allows you to define flows that involve cycles, essential for most agentic architectures, differentiating it from DAG-based solutions.\n",
        "\n",
        "As a very low-level framework, it provides fine-grained control over both the flow and state of your application, crucial for creating reliable agents.\n",
        "\n",
        "Additionally, LangGraph includes built-in persistence, enabling advanced human-in-the-loop and memory features.\n",
        "\n",
        "Key Features¶\n",
        "- **Cycles and Branching:** Implement loops and conditionals in your apps.\n",
        "- **Persistence:** Automatically save state after each step in the graph. Pause and resume the graph execution at any point to support error recovery, human-in-the-loop workflows, time travel and more.\n",
        "- **Human-in-the-Loop:** Interrupt graph execution to approve or edit next action planned by the agent.\n",
        "- **Streaming Support:** Stream outputs as they are produced by each node (including token streaming).\n",
        "- **Integration with LangChain:** LangGraph integrates seamlessly with LangChain and LangSmith (but does not require them).\n",
        "\n",
        "https://langchain-ai.github.io/langgraph/\n",
        "\n",
        "https://chatgpt.com/share/66f9d1bf-58e0-8002-84d0-1c1f8d5b4389"
      ],
      "metadata": {
        "id": "D8H6DufBxLfD"
      }
    },
    {
      "cell_type": "code",
      "source": [
        "%%capture --no-stderr\n",
        "!pip install --quiet -U langgraph"
      ],
      "metadata": {
        "id": "6V4yE9LUx_Up"
      },
      "execution_count": 1,
      "outputs": []
    },
    {
      "cell_type": "markdown",
      "source": [
        "### **State**\n",
        "\n"
      ],
      "metadata": {
        "id": "9I6IC26PA0sV"
      }
    },
    {
      "cell_type": "code",
      "source": [
        "from langgraph import nodegraph"
      ],
      "metadata": {
        "colab": {
          "base_uri": "https://localhost:8080/",
          "height": 322
        },
        "id": "pnt52LQXAq6o",
        "outputId": "3909e9d8-e9e0-4480-e5db-e13b82b39b43"
      },
      "execution_count": 4,
      "outputs": [
        {
          "output_type": "error",
          "ename": "ImportError",
          "evalue": "cannot import name 'nodegraph' from 'langgraph' (unknown location)",
          "traceback": [
            "\u001b[0;31m---------------------------------------------------------------------------\u001b[0m",
            "\u001b[0;31mImportError\u001b[0m                               Traceback (most recent call last)",
            "\u001b[0;32m<ipython-input-4-13d1501bd242>\u001b[0m in \u001b[0;36m<cell line: 1>\u001b[0;34m()\u001b[0m\n\u001b[0;32m----> 1\u001b[0;31m \u001b[0;32mfrom\u001b[0m \u001b[0mlanggraph\u001b[0m \u001b[0;32mimport\u001b[0m \u001b[0mnodegraph\u001b[0m\u001b[0;34m\u001b[0m\u001b[0;34m\u001b[0m\u001b[0m\n\u001b[0m",
            "\u001b[0;31mImportError\u001b[0m: cannot import name 'nodegraph' from 'langgraph' (unknown location)",
            "",
            "\u001b[0;31m---------------------------------------------------------------------------\u001b[0;32m\nNOTE: If your import is failing due to a missing package, you can\nmanually install dependencies using either !pip or !apt.\n\nTo view examples of installing some common dependencies, click the\n\"Open Examples\" button below.\n\u001b[0;31m---------------------------------------------------------------------------\u001b[0m\n"
          ],
          "errorDetails": {
            "actions": [
              {
                "action": "open_url",
                "actionText": "Open Examples",
                "url": "/notebooks/snippets/importing_libraries.ipynb"
              }
            ]
          }
        }
      ]
    }
  ]
}